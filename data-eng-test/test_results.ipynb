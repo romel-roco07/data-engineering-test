{
 "cells": [
  {
   "cell_type": "code",
   "execution_count": 8,
   "metadata": {},
   "outputs": [
    {
     "name": "stdout",
     "output_type": "stream",
     "text": [
      "    customer_id item_name  total_quantity\n",
      "0             5         x               3\n",
      "1             5         y               3\n",
      "2             5         z               4\n",
      "3             7         x              14\n",
      "4             7         y              19\n",
      "..          ...       ...             ...\n",
      "65           97         y               2\n",
      "66           97         z               3\n",
      "67          100         x               1\n",
      "68          100         y               1\n",
      "69          100         z               5\n",
      "\n",
      "[70 rows x 3 columns]\n"
     ]
    }
   ],
   "source": [
    "import sqlite3\n",
    "import pandas as pd\n",
    "\n",
    "conn = sqlite3.connect('S30 ETL Assignment.db')\n",
    "df = pd.read_sql_query(\"\"\"SELECT \n",
    "    c.customer_id,\n",
    "    i.item_name,\n",
    "    SUM(o.quantity) AS total_quantity\n",
    "FROM \n",
    "    customers c\n",
    "LEFT JOIN \n",
    "    sales s ON c.customer_id = s.customer_id\n",
    "LEFT JOIN \n",
    "    orders o ON s.sales_id = o.sales_id\n",
    "LEFT JOIN \n",
    "    items i ON o.item_id = i.item_id\n",
    "WHERE \n",
    "    c.age BETWEEN 18 AND 35\n",
    "GROUP BY \n",
    "    c.customer_id, i.item_name\n",
    "HAVING \n",
    "    SUM(o.quantity) > 0;\n",
    "\"\"\", conn)\n",
    "print(df)\n",
    "conn.close()"
   ]
  },
  {
   "cell_type": "code",
   "execution_count": null,
   "metadata": {},
   "outputs": [],
   "source": [
    "import sqlite3\n",
    "import pandas as pd\n",
    "\n",
    "# open connection\n",
    "conn = sqlite3.connect('S30 ETL Assignment.db')\n",
    "\n",
    "customer_df = pd.read_sql_query(\"SELECT * FROM customers\", conn)\n",
    "sales_df = pd.read_sql_query(\"SELECT * FROM sales\", conn)\n",
    "orders_df = pd.read_sql_query(\"SELECT * FROM orders\", conn)\n",
    "items_df = pd.read_sql_query(\"SELECT * FROM items\", conn)\n",
    "\n",
    "filtered_customers = customer_df[customer_df['age'].between(18, 35)]\n",
    "\n",
    "merged_df = (\n",
    "    filtered_customers\n",
    "    .merge(sales_df, on='customer_id')\n",
    "    .merge(orders_df, on='sales_id')\n",
    "    .merge(items_df, on='item_id')\n",
    ")\n",
    "\n",
    "result_df = (\n",
    "    merged_df\n",
    "    .groupby(['customer_id', 'item_name'])['quantity']\n",
    "    .sum()\n",
    "    .reset_index()\n",
    ")\n",
    "result_df = result_df[result_df['quantity'] > 0]\n",
    "result_df['quantity'] = result_df['quantity'].astype(int)\n",
    "\n",
    "# save to csv\n",
    "result_df.to_csv('output.csv', sep=';', index=False)\n",
    "\n",
    "# close connection\n",
    "conn.close()\n"
   ]
  }
 ],
 "metadata": {
  "kernelspec": {
   "display_name": "Python (Data Test env)",
   "language": "python",
   "name": "data-eng-env"
  },
  "language_info": {
   "codemirror_mode": {
    "name": "ipython",
    "version": 3
   },
   "file_extension": ".py",
   "mimetype": "text/x-python",
   "name": "python",
   "nbconvert_exporter": "python",
   "pygments_lexer": "ipython3",
   "version": "3.13.6"
  }
 },
 "nbformat": 4,
 "nbformat_minor": 2
}
